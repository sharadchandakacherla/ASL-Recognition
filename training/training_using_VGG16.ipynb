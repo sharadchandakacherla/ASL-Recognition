{
  "nbformat": 4,
  "nbformat_minor": 0,
  "metadata": {
    "colab": {
      "provenance": []
    },
    "kernelspec": {
      "name": "python3",
      "display_name": "Python 3"
    },
    "language_info": {
      "name": "python"
    },
    "gpuClass": "standard"
  },
  "cells": [
    {
      "cell_type": "code",
      "execution_count": 1,
      "metadata": {
        "colab": {
          "base_uri": "https://localhost:8080/"
        },
        "id": "Kr8crcFOsL8q",
        "outputId": "ea5ab7de-2a88-4e53-bd3e-9a8e1f9873b0"
      },
      "outputs": [
        {
          "output_type": "stream",
          "name": "stdout",
          "text": [
            "Mounted at /content/gdrive\n"
          ]
        }
      ],
      "source": [
        "from google.colab import drive\n",
        "drive.mount(\"/content/gdrive\", force_remount=True);"
      ]
    },
    {
      "cell_type": "code",
      "source": [
        "import os;\n",
        "API_TOKEN_JSON = {\"username\":\"sharadchandakacherla\",\"key\":\"d2abf8872ee1ed1665ac3513f95d729d\"};\n",
        "os.environ['KAGGLE_USERNAME'] = API_TOKEN_JSON[\"username\"];\n",
        "os.environ['KAGGLE_KEY'] = API_TOKEN_JSON[\"key\"]; "
      ],
      "metadata": {
        "id": "sDkxoMq_sRFi"
      },
      "execution_count": 2,
      "outputs": []
    },
    {
      "cell_type": "code",
      "source": [
        "import keras\n",
        "from keras.layers import Dense, Dropout, Activation, Flatten, Conv2D, MaxPooling2D, Lambda, MaxPool2D, BatchNormalization\n",
        "from keras.utils import np_utils\n",
        "from keras.utils.np_utils import to_categorical\n",
        "from keras.preprocessing.image import ImageDataGenerator\n",
        "from keras import models, layers, optimizers\n",
        "from sklearn.model_selection import train_test_split\n",
        "from sklearn.metrics import confusion_matrix, accuracy_score\n",
        "from sklearn.utils import class_weight\n",
        "from keras.optimizers import SGD, RMSprop, Adam, Adagrad, Adadelta, RMSprop\n",
        "from keras.models import Sequential, model_from_json\n",
        "from keras.layers import Activation,Dense, Dropout, Flatten, Conv2D, MaxPool2D,MaxPooling2D,AveragePooling2D, BatchNormalization\n",
        "from keras.preprocessing.image import ImageDataGenerator\n",
        "from keras.callbacks import ReduceLROnPlateau, ModelCheckpoint\n",
        "from keras import backend as K\n",
        "from keras.applications.vgg16 import VGG16\n",
        "from keras.models import Model\n",
        "from keras.applications.inception_v3 import InceptionV3\n",
        "import os\n",
        "from glob import glob\n",
        "import matplotlib.pyplot as plt\n",
        "import random\n",
        "import cv2\n",
        "import pandas as pd\n",
        "import numpy as np\n",
        "import matplotlib.gridspec as gridspec\n",
        "import seaborn as sns\n",
        "import zlib\n",
        "import itertools\n",
        "import sklearn\n",
        "import itertools\n",
        "import scipy\n",
        "import skimage\n",
        "from skimage.transform import resize\n",
        "import csv\n",
        "from tqdm import tqdm\n",
        "from sklearn import model_selection\n",
        "from sklearn.model_selection import train_test_split, learning_curve,KFold,cross_val_score,StratifiedKFold\n",
        "from sklearn.utils import class_weight\n",
        "from sklearn.metrics import confusion_matrix\n",
        "from imblearn.over_sampling import RandomOverSampler\n",
        "from imblearn.under_sampling import RandomUnderSampler\n",
        "import time\n",
        "#from keras.applications.mobilenet import MobileNet\n",
        "#from sklearn.metrics import roc_auc_score\n",
        "#from sklearn.metrics import roc_curve\n",
        "#from sklearn.metrics import auc\n",
        "#import warnings\n",
        "#warnings.filterwarnings(\"ignore\")\n",
        "%matplotlib inline"
      ],
      "metadata": {
        "id": "okceX03WsTcD"
      },
      "execution_count": 3,
      "outputs": []
    },
    {
      "cell_type": "code",
      "source": [
        "prefix=\"/content/gdrive/MyDrive/Colab Notebooks/datasets/asl_alphabet\";\n",
        "train_dir = \"{0}/asl_alphabet_train/asl_alphabet_train/\".format(prefix);\n",
        "test_dir =  \"{0}/asl_alphabet_test/asl_alphabet_test/\".format(prefix);\n",
        "X_path=\"{0}/X.npy\".format(prefix);\n",
        "y_path=\"{0}/y.npy\".format(prefix);\n",
        "\n",
        "X_path_larger=\"{0}/XL.npy\".format(prefix);\n",
        "y_path_larger=\"{0}/yL.npy\".format(prefix);\n",
        "X_path_smaller=\"{0}/XS.npy\".format(prefix);\n",
        "y_path_smaller=\"{0}/yS.npy\".format(prefix);"
      ],
      "metadata": {
        "id": "-Zq0pHrRsZij"
      },
      "execution_count": 4,
      "outputs": []
    },
    {
      "cell_type": "code",
      "source": [
        "!ls -lr /content/gdrive/MyDrive/'Colab Notebooks'/datasets/asl_alphabet"
      ],
      "metadata": {
        "colab": {
          "base_uri": "https://localhost:8080/"
        },
        "id": "8Dses4l_Qkk-",
        "outputId": "c88c5865-690d-4fd6-b5e9-63f5c7f23d3b"
      },
      "execution_count": 5,
      "outputs": [
        {
          "output_type": "stream",
          "name": "stdout",
          "text": [
            "total 5098353\n",
            "-rw------- 1 root root     696128 Nov 28 00:15 y.npy\n",
            "-rw------- 1 root root 5220000128 Nov 28 00:15 X.npy\n",
            "drwx------ 2 root root       4096 Nov 27 02:42 saved_models\n",
            "drwx------ 2 root root       4096 Nov 27 02:37 checkpoints\n",
            "drwx------ 2 root root       4096 Nov 26 06:34 asl_alphabet_train\n",
            "drwx------ 2 root root       4096 Nov 26 06:34 asl_alphabet_test\n"
          ]
        }
      ]
    },
    {
      "cell_type": "code",
      "source": [
        "imageSize=150\n",
        "from tqdm import tqdm\n",
        "def get_data(folder):\n",
        "    \"\"\"\n",
        "    Load the data and labels from the given folder.\n",
        "    \"\"\"\n",
        "\n",
        "    if os.path.exists(X_path):\n",
        "      X = np.load(X_path);\n",
        "      y = np.load(y_path);\n",
        "    else:\n",
        "      X = []\n",
        "      y = []\n",
        "      for folderName in os.listdir(folder):\n",
        "          if not folderName.startswith('.'):\n",
        "              if folderName in ['A']:\n",
        "                  label = 0\n",
        "              elif folderName in ['B']:\n",
        "                  label = 1\n",
        "              elif folderName in ['C']:\n",
        "                  label = 2\n",
        "              elif folderName in ['D']:\n",
        "                  label = 3\n",
        "              elif folderName in ['E']:\n",
        "                  label = 4\n",
        "              elif folderName in ['F']:\n",
        "                  label = 5\n",
        "              elif folderName in ['G']:\n",
        "                  label = 6\n",
        "              elif folderName in ['H']:\n",
        "                  label = 7\n",
        "              elif folderName in ['I']:\n",
        "                  label = 8\n",
        "              elif folderName in ['J']:\n",
        "                  label = 9\n",
        "              elif folderName in ['K']:\n",
        "                  label = 10\n",
        "              elif folderName in ['L']:\n",
        "                  label = 11\n",
        "              elif folderName in ['M']:\n",
        "                  label = 12\n",
        "              elif folderName in ['N']:\n",
        "                  label = 13\n",
        "              elif folderName in ['O']:\n",
        "                  label = 14\n",
        "              elif folderName in ['P']:\n",
        "                  label = 15\n",
        "              elif folderName in ['Q']:\n",
        "                  label = 16\n",
        "              elif folderName in ['R']:\n",
        "                  label = 17\n",
        "              elif folderName in ['S']:\n",
        "                  label = 18\n",
        "              elif folderName in ['T']:\n",
        "                  label = 19\n",
        "              elif folderName in ['U']:\n",
        "                  label = 20\n",
        "              elif folderName in ['V']:\n",
        "                  label = 21\n",
        "              elif folderName in ['W']:\n",
        "                  label = 22\n",
        "              elif folderName in ['X']:\n",
        "                  label = 23\n",
        "              elif folderName in ['Y']:\n",
        "                  label = 24\n",
        "              elif folderName in ['Z']:\n",
        "                  label = 25\n",
        "              elif folderName in ['del']:\n",
        "                  label = 26\n",
        "              elif folderName in ['nothing']:\n",
        "                  label = 27\n",
        "              elif folderName in ['space']:\n",
        "                  label = 28           \n",
        "              else:\n",
        "                  label = 29\n",
        "              for image_filename in tqdm(os.listdir(folder + folderName)):\n",
        "                  img_file = cv2.imread(folder + folderName + '/' + image_filename)\n",
        "                  if img_file is not None:\n",
        "                      img_file = skimage.transform.resize(img_file, (imageSize, imageSize, 3))\n",
        "                      img_arr = np.asarray(img_file)\n",
        "                      X.append(img_arr)\n",
        "                      y.append(label)\n",
        "              \n",
        "      X = np.asarray(X)\n",
        "      with open(X_path, 'wb') as f:\n",
        "        np.save(f, X);\n",
        "      y = np.asarray(y)\n",
        "      with open(y_path, 'wb') as f:\n",
        "        np.save(f, y);\n",
        "    return X,y\n",
        "X_train, y_train = get_data(train_dir);\n",
        "#X_test, y_test= get_data(test_dir) # Too few images\n",
        "\n",
        "# from sklearn.model_selection import train_test_split\n",
        "# X_train, X_test, y_train, y_test = train_test_split(X_train, y_train, test_size=0.2) \n",
        "\n",
        "# Encode labels to hot vectors (ex : 2 -> [0,0,1,0,0,0,0,0,0,0]).    \n",
        "# from keras.utils.np_utils import to_categorical\n",
        "# y_trainHot = to_categorical(y_train, num_classes = 30)\n",
        "# y_testHot = to_categorical(y_test, num_classes = 30)"
      ],
      "metadata": {
        "id": "TlNlXA7Qse5j"
      },
      "execution_count": null,
      "outputs": []
    },
    {
      "cell_type": "code",
      "source": [
        "imageSize=150\n",
        "from tqdm import tqdm\n",
        "def get_dataV2(folder):\n",
        "    \"\"\"\n",
        "    Load the data and labels from the given folder.\n",
        "    \"\"\"\n",
        "\n",
        "    if os.path.exists(X_path_smaller):\n",
        "      X = np.load(X_path_smaller);\n",
        "      y = np.load(y_path_smaller);\n",
        "    else:\n",
        "      X = []\n",
        "      y = []\n",
        "      for folderName in os.listdir(folder):\n",
        "          if not folderName.startswith('.'):\n",
        "              if folderName in ['A']:\n",
        "                  label = 0\n",
        "              elif folderName in ['B']:\n",
        "                  label = 1\n",
        "              elif folderName in ['C']:\n",
        "                  label = 2\n",
        "              elif folderName in ['D']:\n",
        "                  label = 3\n",
        "              elif folderName in ['E']:\n",
        "                  label = 4\n",
        "              elif folderName in ['F']:\n",
        "                  label = 5\n",
        "              elif folderName in ['G']:\n",
        "                  label = 6\n",
        "              elif folderName in ['H']:\n",
        "                  label = 7\n",
        "              elif folderName in ['I']:\n",
        "                  label = 8\n",
        "              elif folderName in ['J']:\n",
        "                  label = 9\n",
        "              elif folderName in ['K']:\n",
        "                  label = 10\n",
        "              elif folderName in ['L']:\n",
        "                  label = 11\n",
        "              elif folderName in ['M']:\n",
        "                  label = 12\n",
        "              elif folderName in ['N']:\n",
        "                  label = 13\n",
        "              elif folderName in ['O']:\n",
        "                  label = 14\n",
        "              elif folderName in ['P']:\n",
        "                  label = 15\n",
        "              elif folderName in ['Q']:\n",
        "                  label = 16\n",
        "              elif folderName in ['R']:\n",
        "                  label = 17\n",
        "              elif folderName in ['S']:\n",
        "                  label = 18\n",
        "              elif folderName in ['T']:\n",
        "                  label = 19\n",
        "              elif folderName in ['U']:\n",
        "                  label = 20\n",
        "              elif folderName in ['V']:\n",
        "                  label = 21\n",
        "              elif folderName in ['W']:\n",
        "                  label = 22\n",
        "              elif folderName in ['X']:\n",
        "                  label = 23\n",
        "              elif folderName in ['Y']:\n",
        "                  label = 24\n",
        "              elif folderName in ['Z']:\n",
        "                  label = 25\n",
        "              elif folderName in ['del']:\n",
        "                  label = 26\n",
        "              elif folderName in ['nothing']:\n",
        "                  label = 27\n",
        "              elif folderName in ['space']:\n",
        "                  label = 28           \n",
        "              else:\n",
        "                  label = 29\n",
        "              list_of_items = os.listdir(folder + folderName);\n",
        "              reduced_len_items = int(len(list_of_items)/2);\n",
        "              reduced_len_items_np = list_of_items[:reduced_len_items];\n",
        "              for image_filename in tqdm(reduced_len_items_np):\n",
        "                  img_file = cv2.imread(folder + folderName + '/' + image_filename)\n",
        "                  if img_file is not None:\n",
        "                      img_file = skimage.transform.resize(img_file, (imageSize, imageSize, 3))\n",
        "                      img_arr = np.asarray(img_file)\n",
        "                      X.append(img_arr)\n",
        "                      y.append(label)\n",
        "              \n",
        "      X = np.asarray(X)\n",
        "      with open(X_path_smaller, 'wb') as f:\n",
        "        np.save(f, X);\n",
        "      y = np.asarray(y)\n",
        "      with open(y_path_smaller, 'wb') as f:\n",
        "        np.save(f, y);\n",
        "    return X,y\n",
        "X_train, y_train = get_dataV2(train_dir);"
      ],
      "metadata": {
        "colab": {
          "base_uri": "https://localhost:8080/"
        },
        "id": "_0sf4MMyjp38",
        "outputId": "ff56c61b-3c17-4e74-9ea8-cebbed94c1bb"
      },
      "execution_count": null,
      "outputs": [
        {
          "output_type": "stream",
          "name": "stderr",
          "text": [
            "100%|██████████| 1500/1500 [00:24<00:00, 61.24it/s] \n",
            "100%|██████████| 1500/1500 [00:22<00:00, 66.44it/s]\n",
            "100%|██████████| 1500/1500 [00:21<00:00, 70.79it/s] \n",
            "100%|██████████| 1500/1500 [00:22<00:00, 65.74it/s] \n",
            "100%|██████████| 1500/1500 [00:21<00:00, 68.43it/s]\n",
            "100%|██████████| 1500/1500 [00:19<00:00, 78.01it/s]\n",
            "100%|██████████| 1500/1500 [00:18<00:00, 80.52it/s]\n",
            "100%|██████████| 1500/1500 [00:18<00:00, 81.64it/s]\n",
            "100%|██████████| 1500/1500 [01:42<00:00, 14.63it/s]\n",
            "100%|██████████| 1500/1500 [01:34<00:00, 15.92it/s] \n",
            "100%|██████████| 1500/1500 [01:30<00:00, 16.55it/s]\n",
            "100%|██████████| 1500/1500 [01:41<00:00, 14.80it/s]\n",
            "100%|██████████| 1500/1500 [01:55<00:00, 12.96it/s]\n",
            " 56%|█████▌    | 836/1500 [01:21<00:36, 18.21it/s]"
          ]
        }
      ]
    },
    {
      "cell_type": "code",
      "source": [
        "# Shuffle data to permit further subsampling\n",
        "# from sklearn.utils import shuffle\n",
        "# X_train, y_trainHot = shuffle(X_train, y_trainHot, random_state=13)\n",
        "# X_test, y_testHot = shuffle(X_test, y_testHot, random_state=13)\n",
        "# X_train = X_train[:30000]\n",
        "# X_test = X_test[:30000]\n",
        "# y_trainHot = y_trainHot[:30000]\n",
        "# y_testHot = y_testHot[:30000]"
      ],
      "metadata": {
        "id": "MDcy8iXAsglt"
      },
      "execution_count": null,
      "outputs": []
    },
    {
      "cell_type": "code",
      "source": [
        "from sklearn.model_selection import train_test_split\n",
        "X_train, X_test, y_train, y_test = train_test_split(X_train, y_train, test_size=0.2) \n",
        "\n",
        "\n",
        "val_perc = 0.10;\n",
        "val_count = int(np.floor(X_train.shape[0]*0.1));\n",
        "X_val = X_train[-val_count:];\n",
        "y_val = y_train[-val_count:]\n",
        "X_train = X_train[:-val_count];\n",
        "y_train = y_train[:-val_count];\n",
        "\n",
        "# Encode labels to hot vectors (ex : 2 -> [0,0,1,0,0,0,0,0,0,0]).    \n",
        "from keras.utils.np_utils import to_categorical\n",
        "y_trainHot = to_categorical(y_train, num_classes = 30)\n",
        "y_testHot = to_categorical(y_test, num_classes = 30)\n",
        "y_valHot = to_categorical(y_val, num_classes = 30)\n",
        "\n",
        "#Shuffle data to permit further subsampling\n",
        "from sklearn.utils import shuffle\n",
        "X_train, y_trainHot = shuffle(X_train, y_trainHot, random_state=13)\n",
        "X_test, y_testHot = shuffle(X_test, y_testHot, random_state=13)\n",
        "X_val, y_val = shuffle(X_val, y_val, random_state=13)"
      ],
      "metadata": {
        "id": "4AYLrAWkiWoF"
      },
      "execution_count": null,
      "outputs": []
    },
    {
      "cell_type": "code",
      "source": [
        "print(y_trainHot.shape)\n",
        "print(y_valHot.shape)\n",
        "print(y_testHot.shape)\n",
        "\n",
        "print(X_train.shape)\n",
        "print(X_val.shape)\n",
        "print(X_test.shape)"
      ],
      "metadata": {
        "colab": {
          "base_uri": "https://localhost:8080/"
        },
        "id": "3jATEND1jPJZ",
        "outputId": "9d7dbe74-497e-4261-aca3-2dbbb2f7a756"
      },
      "execution_count": null,
      "outputs": [
        {
          "output_type": "stream",
          "name": "stdout",
          "text": [
            "(62640, 30)\n",
            "(6960, 30)\n",
            "(17400, 30)\n",
            "(62640, 50, 50, 3)\n",
            "(6960, 50, 50, 3)\n",
            "(17400, 50, 50, 3)\n"
          ]
        }
      ]
    },
    {
      "cell_type": "code",
      "source": [
        "unq_labels, counts = np.unique(y_test, return_counts=True)\n",
        "print(unq_labels);\n",
        "print( counts)"
      ],
      "metadata": {
        "colab": {
          "base_uri": "https://localhost:8080/"
        },
        "id": "mLmmEWBmWajh",
        "outputId": "d7794363-115d-4cdc-bb05-f0589627b291"
      },
      "execution_count": null,
      "outputs": [
        {
          "output_type": "stream",
          "name": "stdout",
          "text": [
            "[ 0  1  2  3  4  5  6  7  8  9 10 11 12 13 14 15 16 17 18 19 20 21 22 23\n",
            " 24 25 26 27 28]\n",
            "[601 553 578 590 584 615 600 637 604 593 628 594 610 621 617 591 592 582\n",
            " 631 590 620 605 602 595 564 612 580 603 608]\n"
          ]
        }
      ]
    },
    {
      "cell_type": "code",
      "source": [
        "unq_labels_tr, counts_tr = np.unique(y_train, return_counts=True)\n",
        "print(unq_labels_tr);\n",
        "print( counts_tr);"
      ],
      "metadata": {
        "colab": {
          "base_uri": "https://localhost:8080/"
        },
        "id": "yjNv068yXBro",
        "outputId": "e79686b2-60a6-4040-964d-863dbe2e5aff"
      },
      "execution_count": null,
      "outputs": [
        {
          "output_type": "stream",
          "name": "stdout",
          "text": [
            "[ 0  1  2  3  4  5  6  7  8  9 10 11 12 13 14 15 16 17 18 19 20 21 22 23\n",
            " 24 25 26 27 28]\n",
            "[2167 2204 2175 2195 2178 2163 2162 2132 2144 2169 2122 2142 2145 2164\n",
            " 2148 2156 2159 2164 2153 2151 2130 2160 2149 2153 2199 2161 2174 2157\n",
            " 2164]\n"
          ]
        }
      ]
    },
    {
      "cell_type": "code",
      "source": [
        "map_characters = {0: 'A', 1: 'B', 2: 'C', 3: 'D', 4: 'E', 5: 'F', 6: 'G', 7: 'H', 8: 'I', 9: 'J', 10: 'K', 11: 'L', 12: 'M', 13: 'N', 14: 'O', 15: 'P', 16: 'Q', 17: 'R', 18: 'S', 19: 'T', 20: 'U', 21: 'V', 22: 'W', 23: 'X', 24: 'Y', 25: 'Z', 26: 'del', 27: 'nothing', 28: 'space', 29: 'other'}\n",
        "dict_characters=map_characters\n",
        "import seaborn as sns\n",
        "df = pd.DataFrame()\n",
        "df[\"labels\"]=y_train\n",
        "lab = df['labels']\n",
        "dist = lab.value_counts()\n",
        "sns.countplot(lab)\n",
        "print(dict_characters)"
      ],
      "metadata": {
        "colab": {
          "base_uri": "https://localhost:8080/",
          "height": 353
        },
        "id": "JCgu5vddsjJe",
        "outputId": "83078a0d-a7ea-4dc6-b756-4c6a8a48a437"
      },
      "execution_count": null,
      "outputs": [
        {
          "output_type": "stream",
          "name": "stderr",
          "text": [
            "/usr/local/lib/python3.7/dist-packages/seaborn/_decorators.py:43: FutureWarning: Pass the following variable as a keyword arg: x. From version 0.12, the only valid positional argument will be `data`, and passing other arguments without an explicit keyword will result in an error or misinterpretation.\n",
            "  FutureWarning\n"
          ]
        },
        {
          "output_type": "stream",
          "name": "stdout",
          "text": [
            "{0: 'A', 1: 'B', 2: 'C', 3: 'D', 4: 'E', 5: 'F', 6: 'G', 7: 'H', 8: 'I', 9: 'J', 10: 'K', 11: 'L', 12: 'M', 13: 'N', 14: 'O', 15: 'P', 16: 'Q', 17: 'R', 18: 'S', 19: 'T', 20: 'U', 21: 'V', 22: 'W', 23: 'X', 24: 'Y', 25: 'Z', 26: 'del', 27: 'nothing', 28: 'space', 29: 'other'}\n"
          ]
        },
        {
          "output_type": "display_data",
          "data": {
            "text/plain": [
              "<Figure size 432x288 with 1 Axes>"
            ],
            "image/png": "[encoded data removed]"
          },
          "metadata": {
            "needs_background": "light"
          }
        }
      ]
    },
    {
      "cell_type": "code",
      "source": [
        "# Helper Functions  Learning Curves and Confusion Matrix\n",
        "\n",
        "from keras.callbacks import Callback, EarlyStopping, ReduceLROnPlateau, ModelCheckpoint\n",
        "\n",
        "class MetricsCheckpoint(Callback):\n",
        "    \"\"\"Callback that saves metrics after each epoch\"\"\"\n",
        "    def __init__(self, savepath):\n",
        "        super(MetricsCheckpoint, self).__init__()\n",
        "        self.savepath = savepath\n",
        "        self.history = {}\n",
        "    def on_epoch_end(self, epoch, logs=None):\n",
        "        for k, v in logs.items():\n",
        "            self.history.setdefault(k, []).append(v)\n",
        "        np.save(self.savepath, self.history)\n",
        "\n",
        "def plotKerasLearningCurve():\n",
        "    plt.figure(figsize=(10,5))\n",
        "    metrics = np.load('logs.npy')[()]\n",
        "    filt = ['acc'] # try to add 'loss' to see the loss learning curve\n",
        "    for k in filter(lambda x : np.any([kk in x for kk in filt]), metrics.keys()):\n",
        "        l = np.array(metrics[k])\n",
        "        plt.plot(l, c= 'r' if 'val' not in k else 'b', label='val' if 'val' in k else 'train')\n",
        "        x = np.argmin(l) if 'loss' in k else np.argmax(l)\n",
        "        y = l[x]\n",
        "        plt.scatter(x,y, lw=0, alpha=0.25, s=100, c='r' if 'val' not in k else 'b')\n",
        "        plt.text(x, y, '{} = {:.4f}'.format(x,y), size='15', color= 'r' if 'val' not in k else 'b')   \n",
        "    plt.legend(loc=4)\n",
        "    plt.axis([0, None, None, None]);\n",
        "    plt.grid()\n",
        "    plt.xlabel('Number of epochs')\n",
        "    plt.ylabel('Accuracy')\n",
        "\n",
        "def plot_confusion_matrix(cm, classes,\n",
        "                          normalize=False,\n",
        "                          title='Confusion matrix',\n",
        "                          cmap=plt.cm.Blues):\n",
        "    \"\"\"\n",
        "    This function prints and plots the confusion matrix.\n",
        "    Normalization can be applied by setting `normalize=True`.\n",
        "    \"\"\"\n",
        "    plt.figure(figsize = (8,8))\n",
        "    plt.imshow(cm, interpolation='nearest', cmap=cmap)\n",
        "    plt.title(title)\n",
        "    plt.colorbar()\n",
        "    tick_marks = np.arange(len(classes))\n",
        "    plt.xticks(tick_marks, classes, rotation=90)\n",
        "    plt.yticks(tick_marks, classes)\n",
        "    if normalize:\n",
        "        cm = cm.astype('float') / cm.sum(axis=1)[:, np.newaxis]\n",
        "\n",
        "    thresh = cm.max() / 2.\n",
        "    for i, j in itertools.product(range(cm.shape[0]), range(cm.shape[1])):\n",
        "        plt.text(j, i, cm[i, j],\n",
        "                 horizontalalignment=\"center\",\n",
        "                 color=\"white\" if cm[i, j] > thresh else \"black\")\n",
        "    plt.tight_layout()\n",
        "    plt.ylabel('True label')\n",
        "    plt.xlabel('Predicted label')\n",
        "\n",
        "def plot_learning_curve(history):\n",
        "    plt.figure(figsize=(8,8))\n",
        "    plt.subplot(1,2,1)\n",
        "    plt.plot(history.history['accuracy'])\n",
        "    plt.plot(history.history['val_accuracy'])\n",
        "    plt.title('model accuracy')\n",
        "    plt.ylabel('accuracy')\n",
        "    plt.xlabel('epoch')\n",
        "    plt.legend(['train', 'test'], loc='upper left')\n",
        "    plt.savefig('./accuracy_curve.png')\n",
        "    plt.subplot(1,2,2)\n",
        "    plt.plot(history.history['loss'])\n",
        "    plt.plot(history.history['val_loss'])\n",
        "    plt.title('model loss')\n",
        "    plt.ylabel('loss')\n",
        "    plt.xlabel('epoch')\n",
        "    plt.legend(['train', 'test'], loc='upper left')\n",
        "    plt.savefig('./loss_curve.png')"
      ],
      "metadata": {
        "id": "0SeoeD6qsnqs"
      },
      "execution_count": null,
      "outputs": []
    },
    {
      "cell_type": "code",
      "source": [
        "pre_trained_prefix = \"/content/gdrive/MyDrive/Colab Notebooks/datasets/pre_trained_models\"\n",
        "weight_path1 = '{0}/vgg16_weights_tf_dim_ordering_tf_kernels_notop.h5'.format(pre_trained_prefix);\n",
        "weight_path2 = '{0}/inception_v3_weights_tf_dim_ordering_tf_kernels_notop.h5'.format(pre_trained_prefix);\n",
        "\n",
        "import time;\n",
        "time1 = str(time.time());\n",
        "checkpoint_path = \"/content/gdrive/MyDrive/Colab Notebooks/datasets/asl-alphabet/checkpoints_for_vgg16/vgg16_{0}.ckpt\".format(time);\n",
        "checkpoint_dir = os.path.dirname(checkpoint_path);\n",
        "saved_model_dir= \"/content/gdrive/MyDrive/Colab Notebooks/datasets/asl_alphabet/saved_models\"\n",
        "cp_callback = keras.callbacks.ModelCheckpoint(filepath=checkpoint_path,\n",
        "                                                 save_weights_only=True,\n",
        "                                                 verbose=1)\n",
        "pickled_path = \"/content/gdrive/MyDrive/Colab Notebooks/datasets/vgg16/pickled/\";\n",
        "logs_path = \"/content/gdrive/MyDrive/Colab Notebooks/datasets/vgg16/logs_{0}\".format(time1);"
      ],
      "metadata": {
        "id": "guMJxHExsqN7"
      },
      "execution_count": null,
      "outputs": []
    },
    {
      "cell_type": "code",
      "source": [
        "!mkdir -p /content/gdrive/MyDrive/'Colab Notebooks'/datasets/vgg16/"
      ],
      "metadata": {
        "id": "UhV2tKDLghR5"
      },
      "execution_count": null,
      "outputs": []
    },
    {
      "cell_type": "code",
      "source": [
        "import pickle;\n",
        "def train(xtrain,ytrain,xval,yval,xtest,ytest,pretrainedmodel,classweight,numclasses,numepochs,optimizer,labels):\n",
        "    base_model = pretrainedmodel # Topless\n",
        "    # Add top layer\n",
        "    x = base_model.output\n",
        "    x = Flatten()(x)\n",
        "    predictions = Dense(numclasses, activation='softmax')(x)\n",
        "    model = Model(inputs=base_model.input, outputs=predictions)\n",
        "    # Train top layer\n",
        "    for layer in base_model.layers:\n",
        "        layer.trainable = False\n",
        "    model.compile(loss='categorical_crossentropy', \n",
        "                  optimizer=optimizer, \n",
        "                  metrics=['accuracy'])\n",
        "    #callbacks_list = [keras.callbacks.EarlyStopping(monitor='val_acc', patience=3, verbose=1)]\n",
        "    #model.summary()\n",
        "    # Fit model this take a lot of time, ~1189 seconds for one epoch\n",
        "    val_dat =(xval,yval);\n",
        "    #print(type(xtest));\n",
        "    weights_dict = {i:w for i,w in enumerate(classweight)}\n",
        "    history = model.fit(xtrain,ytrain, epochs=numepochs, class_weight=weights_dict, validation_data=val_dat, verbose=1,callbacks = [MetricsCheckpoint(logs_path), cp_callback])\n",
        "    with open('{0}/trainHistoryDict'.format(pickled_path), 'wb') as file_pi:\n",
        "      pickle.dump(history.history, file_pi);\n",
        "    # Evaluate model\n",
        "    score = model.evaluate(xtest,ytest, verbose=0)\n",
        "    print('\\nKeras CNN - accuracy:', score[1], '\\n')\n",
        "    y_pred = model.predict(xtest);\n",
        "    model.save('{0}/asl_alpabet_resnet_v2_{1}.h5'.format(saved_model_dir, time1));\n",
        "\n",
        "    label_in_testing=np.where(ytest > 0)[1];\n",
        "    common_keys =list(set(label_in_testing) & set(labels.keys()));\n",
        "    labels_for_metrics={x: labels[x] for x in common_keys};\n",
        "\n",
        "    classification_report = sklearn.metrics.classification_report(label_in_testing, np.argmax(y_pred, axis=1), target_names=list(labels_for_metrics.values()));\n",
        "    Y_pred_classes = np.argmax(y_pred,axis = 1) \n",
        "    Y_true = np.argmax(ytest,axis = 1) \n",
        "    confusion_mtx = confusion_matrix(Y_true, Y_pred_classes) \n",
        "    return model,history,score,confusion_mtx,classification_report;\n",
        "\n",
        "def getModelWithTrainedWeights(pre_trained_model, numclasses, trained_weights_dir, optimizer):\n",
        "    base_model = pre_trained_model;\n",
        "    x = base_model.output;\n",
        "    x = Flatten()(x);\n",
        "    predictions = Dense(numclasses, activation='softmax')(x)\n",
        "    model = Model(inputs=base_model.input, outputs=predictions);\n",
        "\n",
        "    for layer in base_model.layers:\n",
        "        layer.trainable = False\n",
        "    print(\"compiling untrained model\");\n",
        "    model.compile(loss='categorical_crossentropy', \n",
        "                  optimizer=optimizer, \n",
        "                  metrics=['accuracy'])\n",
        "    #loading old weights\n",
        "    print(\"loading weights\");\n",
        "    model.load_weights(trained_weights_dir);\n",
        "    return model;\n",
        "\n",
        "def evaluateModelWithLoadedWeights(model, test_images, test_labels):\n",
        "    loss, acc = model.evaluate(test_images, test_labels, verbose=2);\n",
        "    print(\"Untrained model, accuracy: {:5.2f}%\".format(100 * acc));\n",
        "\n",
        "def predictUsingTrainedModel(model,X_test):\n",
        "    y_pred = model.predict(X_test, verbose=0);\n",
        "    return y_pred;\n",
        "\n",
        "def printMetricsPostPrediction(ytest, map_characters):\n",
        "    label_in_testing=np.where(ytest > 0)[1];\n",
        "    common_keys =list(set(label_in_testing) & set(map_characters.keys()));\n",
        "    labels_for_metrics={x: map_characters[x] for x in common_keys};\n",
        "    classification_report=sklearn.metrics.classification_report(np.where(ytest > 0)[1], np.argmax(y_pred, axis=1), target_names=list(labels_for_metrics.values()))\n",
        "    print('\\n', classification_report, sep='');\n",
        "    return labels_for_metrics, classification_report;\n",
        "\n",
        "def getConfusionMatrix(ytest, y_pred):\n",
        "    Y_pred_classes = np.argmax(y_pred,axis = 1) \n",
        "    Y_true = np.argmax(ytest,axis = 1) \n",
        "    confusion_mtx = confusion_matrix(Y_true, Y_pred_classes);\n",
        "    return confusion_mtx;"
      ],
      "metadata": {
        "id": "aAjy20Y0stpy"
      },
      "execution_count": null,
      "outputs": []
    },
    {
      "cell_type": "code",
      "source": [
        "character_labels = map_characters;\n",
        "class_weight1 = class_weight.compute_class_weight(class_weight='balanced', classes=np.unique(y_train), y=y_train);\n",
        "pretrained_VGG16_model= VGG16(weights = weight_path1, include_top=False, input_shape=(imageSize, imageSize, 3));\n",
        "optimizer1 = keras.optimizers.Adam();\n",
        "optimizer2 = keras.optimizers.RMSprop(learning_rate=0.0001);\n",
        "#val_dat =(X_val, y_valHot);\n",
        "\n",
        "print(\"training started\")\n",
        "model,history,score,confusion_mtx,classification_report=train(X_train, y_trainHot, X_val, y_valHot,X_test, y_testHot,pretrained_VGG16_model, class_weight1,30,10,optimizer1,character_labels);\n",
        "print(\"training done\")"
      ],
      "metadata": {
        "colab": {
          "base_uri": "https://localhost:8080/"
        },
        "id": "g6x2Bws5ft_r",
        "outputId": "b74f6ad3-9414-4d1d-8875-1d0e298821af"
      },
      "execution_count": null,
      "outputs": [
        {
          "output_type": "stream",
          "name": "stdout",
          "text": [
            "training started\n",
            "Model: \"model\"\n",
            "_________________________________________________________________\n",
            " Layer (type)                Output Shape              Param #   \n",
            "=================================================================\n",
            " input_1 (InputLayer)        [(None, 50, 50, 3)]       0         \n",
            "                                                                 \n",
            " block1_conv1 (Conv2D)       (None, 50, 50, 64)        1792      \n",
            "                                                                 \n",
            " block1_conv2 (Conv2D)       (None, 50, 50, 64)        36928     \n",
            "                                                                 \n",
            " block1_pool (MaxPooling2D)  (None, 25, 25, 64)        0         \n",
            "                                                                 \n",
            " block2_conv1 (Conv2D)       (None, 25, 25, 128)       73856     \n",
            "                                                                 \n",
            " block2_conv2 (Conv2D)       (None, 25, 25, 128)       147584    \n",
            "                                                                 \n",
            " block2_pool (MaxPooling2D)  (None, 12, 12, 128)       0         \n",
            "                                                                 \n",
            " block3_conv1 (Conv2D)       (None, 12, 12, 256)       295168    \n",
            "                                                                 \n",
            " block3_conv2 (Conv2D)       (None, 12, 12, 256)       590080    \n",
            "                                                                 \n",
            " block3_conv3 (Conv2D)       (None, 12, 12, 256)       590080    \n",
            "                                                                 \n",
            " block3_pool (MaxPooling2D)  (None, 6, 6, 256)         0         \n",
            "                                                                 \n",
            " block4_conv1 (Conv2D)       (None, 6, 6, 512)         1180160   \n",
            "                                                                 \n",
            " block4_conv2 (Conv2D)       (None, 6, 6, 512)         2359808   \n",
            "                                                                 \n",
            " block4_conv3 (Conv2D)       (None, 6, 6, 512)         2359808   \n",
            "                                                                 \n",
            " block4_pool (MaxPooling2D)  (None, 3, 3, 512)         0         \n",
            "                                                                 \n",
            " block5_conv1 (Conv2D)       (None, 3, 3, 512)         2359808   \n",
            "                                                                 \n",
            " block5_conv2 (Conv2D)       (None, 3, 3, 512)         2359808   \n",
            "                                                                 \n",
            " block5_conv3 (Conv2D)       (None, 3, 3, 512)         2359808   \n",
            "                                                                 \n",
            " block5_pool (MaxPooling2D)  (None, 1, 1, 512)         0         \n",
            "                                                                 \n",
            " flatten (Flatten)           (None, 512)               0         \n",
            "                                                                 \n",
            " dense (Dense)               (None, 30)                15390     \n",
            "                                                                 \n",
            "=================================================================\n",
            "Total params: 14,730,078\n",
            "Trainable params: 15,390\n",
            "Non-trainable params: 14,714,688\n",
            "_________________________________________________________________\n",
            "<class 'numpy.ndarray'>\n",
            "Epoch 1/10\n",
            "1958/1958 [==============================] - ETA: 0s - loss: 1.7669 - accuracy: 0.6239\n",
            "Epoch 1: saving model to /content/gdrive/MyDrive/Colab Notebooks/datasets/asl-alphabet/checkpoints_for_vgg16/vgg16.ckpt\n",
            "1958/1958 [==============================] - 42s 17ms/step - loss: 1.7669 - accuracy: 0.6239 - val_loss: 1.1551 - val_accuracy: 0.7682\n",
            "Epoch 2/10\n",
            "1955/1958 [============================>.] - ETA: 0s - loss: 0.9357 - accuracy: 0.8127\n",
            "Epoch 2: saving model to /content/gdrive/MyDrive/Colab Notebooks/datasets/asl-alphabet/checkpoints_for_vgg16/vgg16.ckpt\n",
            "1958/1958 [==============================] - 32s 17ms/step - loss: 0.9355 - accuracy: 0.8128 - val_loss: 0.7941 - val_accuracy: 0.8374\n",
            "Epoch 3/10\n",
            "1958/1958 [==============================] - ETA: 0s - loss: 0.6864 - accuracy: 0.8627\n",
            "Epoch 3: saving model to /content/gdrive/MyDrive/Colab Notebooks/datasets/asl-alphabet/checkpoints_for_vgg16/vgg16.ckpt\n",
            "1958/1958 [==============================] - 35s 18ms/step - loss: 0.6864 - accuracy: 0.8627 - val_loss: 0.6280 - val_accuracy: 0.8684\n",
            "Epoch 4/10\n",
            "1957/1958 [============================>.] - ETA: 0s - loss: 0.5500 - accuracy: 0.8895\n",
            "Epoch 4: saving model to /content/gdrive/MyDrive/Colab Notebooks/datasets/asl-alphabet/checkpoints_for_vgg16/vgg16.ckpt\n",
            "1958/1958 [==============================] - 35s 18ms/step - loss: 0.5500 - accuracy: 0.8895 - val_loss: 0.5205 - val_accuracy: 0.8915\n",
            "Epoch 5/10\n",
            "1955/1958 [============================>.] - ETA: 0s - loss: 0.4616 - accuracy: 0.9085\n",
            "Epoch 5: saving model to /content/gdrive/MyDrive/Colab Notebooks/datasets/asl-alphabet/checkpoints_for_vgg16/vgg16.ckpt\n",
            "1958/1958 [==============================] - 32s 17ms/step - loss: 0.4615 - accuracy: 0.9086 - val_loss: 0.4459 - val_accuracy: 0.9034\n",
            "Epoch 6/10\n",
            "1956/1958 [============================>.] - ETA: 0s - loss: 0.3997 - accuracy: 0.9217\n",
            "Epoch 6: saving model to /content/gdrive/MyDrive/Colab Notebooks/datasets/asl-alphabet/checkpoints_for_vgg16/vgg16.ckpt\n",
            "1958/1958 [==============================] - 33s 17ms/step - loss: 0.3997 - accuracy: 0.9217 - val_loss: 0.3919 - val_accuracy: 0.9210\n",
            "Epoch 7/10\n",
            "1957/1958 [============================>.] - ETA: 0s - loss: 0.3526 - accuracy: 0.9313\n",
            "Epoch 7: saving model to /content/gdrive/MyDrive/Colab Notebooks/datasets/asl-alphabet/checkpoints_for_vgg16/vgg16.ckpt\n",
            "1958/1958 [==============================] - 33s 17ms/step - loss: 0.3527 - accuracy: 0.9313 - val_loss: 0.3538 - val_accuracy: 0.9284\n",
            "Epoch 8/10\n",
            "1957/1958 [============================>.] - ETA: 0s - loss: 0.3158 - accuracy: 0.9397\n",
            "Epoch 8: saving model to /content/gdrive/MyDrive/Colab Notebooks/datasets/asl-alphabet/checkpoints_for_vgg16/vgg16.ckpt\n",
            "1958/1958 [==============================] - 32s 17ms/step - loss: 0.3158 - accuracy: 0.9397 - val_loss: 0.3190 - val_accuracy: 0.9332\n",
            "Epoch 9/10\n",
            "1955/1958 [============================>.] - ETA: 0s - loss: 0.2864 - accuracy: 0.9453\n",
            "Epoch 9: saving model to /content/gdrive/MyDrive/Colab Notebooks/datasets/asl-alphabet/checkpoints_for_vgg16/vgg16.ckpt\n",
            "1958/1958 [==============================] - 33s 17ms/step - loss: 0.2864 - accuracy: 0.9454 - val_loss: 0.2935 - val_accuracy: 0.9405\n",
            "Epoch 10/10\n",
            "1957/1958 [============================>.] - ETA: 0s - loss: 0.2621 - accuracy: 0.9502\n",
            "Epoch 10: saving model to /content/gdrive/MyDrive/Colab Notebooks/datasets/asl-alphabet/checkpoints_for_vgg16/vgg16.ckpt\n",
            "1958/1958 [==============================] - 33s 17ms/step - loss: 0.2621 - accuracy: 0.9502 - val_loss: 0.2694 - val_accuracy: 0.9448\n",
            "\n",
            "Keras CNN - accuracy: 0.9520689845085144 \n",
            "\n",
            "544/544 [==============================] - 7s 13ms/step\n",
            "training done\n"
          ]
        }
      ]
    },
    {
      "cell_type": "code",
      "source": [
        "with open('{0}/model_vgg16_{1}'.format(pickled_path,time1), 'wb') as file_pi:\n",
        "  pickle.dump(model, file_pi);\n",
        "  \n",
        "with open('{0}/score_vgg16_{1}'.format(pickled_path,time1), 'wb') as file_pi:\n",
        "  pickle.dump(score, file_pi);\n",
        "\n",
        "with open('{0}/confusion_mtx_vgg16_{1}'.format(pickled_path,time1), 'wb') as file_pi:\n",
        "  pickle.dump(confusion_mtx, file_pi);\n",
        "\n",
        "with open('{0}/classification_vgg16_{1}'.format(pickled_path,time1), 'wb') as file_pi:\n",
        "  pickle.dump(classification_report, file_pi);"
      ],
      "metadata": {
        "colab": {
          "base_uri": "https://localhost:8080/"
        },
        "id": "5e1bxhMXmrnW",
        "outputId": "8fa083d3-f0ff-452f-be48-aa9043d2280a"
      },
      "execution_count": null,
      "outputs": [
        {
          "output_type": "stream",
          "name": "stderr",
          "text": [
            "WARNING:absl:Found untraced functions such as _jit_compiled_convolution_op, _jit_compiled_convolution_op, _jit_compiled_convolution_op, _jit_compiled_convolution_op, _jit_compiled_convolution_op while saving (showing 5 of 13). These functions will not be directly callable after loading.\n"
          ]
        }
      ]
    },
    {
      "cell_type": "code",
      "source": [
        "map_characters2 = {0: 'A', 1: 'B', 2: 'C', 3: 'D', 4: 'E', 5: 'F', 6: 'G', 7: 'H', 8: 'I', 9: 'J', 10: 'K', 11: 'L', 12: 'M', 13: 'N', 14: 'O', 15: 'P', 16: 'Q', 17: 'R', 18: 'S', 19: 'T', 20: 'U', 21: 'V', 22: 'W', 23: 'X', 24: 'Y', 25: 'Z', 26: 'del', 27: 'nothing', 28: 'space'}\n",
        "plot_confusion_matrix(confusion_mtx, classes = list(map_characters2.values()))\n",
        "plt.show()"
      ],
      "metadata": {
        "colab": {
          "base_uri": "https://localhost:8080/",
          "height": 585
        },
        "id": "zVKO9Viam9Ns",
        "outputId": "1fdb8663-c9ba-4f20-9c3f-ca9cd3ef2bae"
      },
      "execution_count": null,
      "outputs": [
        {
          "output_type": "display_data",
          "data": {
            "text/plain": [
              "<Figure size 576x576 with 2 Axes>"
            ],
            "image/png": "[encoded data removed]"
          },
          "metadata": {
            "needs_background": "light"
          }
        }
      ]
    },
    {
      "cell_type": "code",
      "source": [
        "plot_learning_curve(history)\n",
        "plt.show()"
      ],
      "metadata": {
        "colab": {
          "base_uri": "https://localhost:8080/",
          "height": 513
        },
        "id": "rYfK7RbJnDNF",
        "outputId": "aef086d9-057f-44ae-a50f-67d9a55d7d24"
      },
      "execution_count": null,
      "outputs": [
        {
          "output_type": "display_data",
          "data": {
            "text/plain": [
              "<Figure size 576x576 with 2 Axes>"
            ],
            "image/png": "[encoded data removed]"
          },
          "metadata": {
            "needs_background": "light"
          }
        }
      ]
    },
    {
      "cell_type": "code",
      "source": [
        "print(classification_report)"
      ],
      "metadata": {
        "colab": {
          "base_uri": "https://localhost:8080/"
        },
        "id": "0c2v8hqNnILM",
        "outputId": "2016a54a-5547-459b-c8bd-e47798b4553e"
      },
      "execution_count": null,
      "outputs": [
        {
          "output_type": "stream",
          "name": "stdout",
          "text": [
            "              precision    recall  f1-score   support\n",
            "\n",
            "           A       0.95      0.97      0.96       601\n",
            "           B       0.93      0.98      0.96       553\n",
            "           C       0.99      0.99      0.99       578\n",
            "           D       0.99      0.99      0.99       590\n",
            "           E       0.97      0.92      0.94       584\n",
            "           F       0.99      0.98      0.99       615\n",
            "           G       1.00      0.96      0.98       600\n",
            "           H       0.99      1.00      0.99       637\n",
            "           I       0.94      0.94      0.94       604\n",
            "           J       0.98      0.99      0.99       593\n",
            "           K       0.95      0.93      0.94       628\n",
            "           L       0.98      0.99      0.99       594\n",
            "           M       0.90      0.96      0.93       610\n",
            "           N       0.98      0.91      0.95       621\n",
            "           O       0.98      0.96      0.97       617\n",
            "           P       0.98      0.99      0.98       591\n",
            "           Q       1.00      0.98      0.99       592\n",
            "           R       0.88      0.88      0.88       582\n",
            "           S       0.83      0.86      0.85       631\n",
            "           T       0.96      0.93      0.95       590\n",
            "           U       0.89      0.84      0.87       620\n",
            "           V       0.84      0.92      0.87       605\n",
            "           W       0.96      0.93      0.94       602\n",
            "           X       0.93      0.89      0.91       595\n",
            "           Y       0.94      0.97      0.96       564\n",
            "           Z       0.96      0.98      0.97       612\n",
            "         del       0.99      0.99      0.99       580\n",
            "     nothing       1.00      1.00      1.00       603\n",
            "       space       0.95      0.98      0.97       608\n",
            "\n",
            "    accuracy                           0.95     17400\n",
            "   macro avg       0.95      0.95      0.95     17400\n",
            "weighted avg       0.95      0.95      0.95     17400\n",
            "\n"
          ]
        }
      ]
    },
    {
      "cell_type": "code",
      "source": [
        "metrics = printMetricsPostPrediction(y_testHot, character_labels);\n",
        "print(metrics);"
      ],
      "metadata": {
        "colab": {
          "base_uri": "https://localhost:8080/"
        },
        "id": "73QsKYmnFNwJ",
        "outputId": "429fc470-e9ce-429b-9404-06cc06544fc4"
      },
      "execution_count": null,
      "outputs": [
        {
          "output_type": "stream",
          "name": "stdout",
          "text": [
            "\n",
            "              precision    recall  f1-score   support\n",
            "\n",
            "           A       0.85      0.90      0.87       561\n",
            "           B       0.87      0.95      0.91       576\n",
            "           C       0.99      0.99      0.99       598\n",
            "           D       0.99      0.98      0.98       624\n",
            "           E       0.88      0.87      0.88       589\n",
            "           F       0.95      0.97      0.96       555\n",
            "           G       0.96      0.94      0.95       617\n",
            "           H       0.98      0.97      0.97       618\n",
            "           I       0.91      0.87      0.89       591\n",
            "           J       0.95      0.95      0.95       557\n",
            "           K       0.90      0.89      0.90       663\n",
            "           L       0.96      1.00      0.98       629\n",
            "           M       0.85      0.90      0.88       609\n",
            "           N       0.92      0.87      0.89       616\n",
            "           O       0.96      0.96      0.96       589\n",
            "           P       0.93      0.99      0.96       589\n",
            "           Q       1.00      0.97      0.98       614\n",
            "           R       0.84      0.76      0.79       590\n",
            "           S       0.76      0.80      0.78       593\n",
            "           T       0.86      0.89      0.87       607\n",
            "           U       0.74      0.79      0.76       617\n",
            "           V       0.86      0.70      0.77       632\n",
            "           W       0.88      0.90      0.89       601\n",
            "           X       0.88      0.78      0.83       617\n",
            "           Y       0.89      0.89      0.89       597\n",
            "           Z       0.92      0.94      0.93       571\n",
            "         del       0.98      0.97      0.97       608\n",
            "     nothing       1.00      1.00      1.00       622\n",
            "       space       0.87      0.93      0.90       550\n",
            "\n",
            "    accuracy                           0.91     17400\n",
            "   macro avg       0.91      0.91      0.91     17400\n",
            "weighted avg       0.91      0.91      0.91     17400\n",
            "\n",
            "None\n"
          ]
        }
      ]
    },
    {
      "cell_type": "code",
      "source": [
        "cm= getConfusionMatrix(y_testHot, y_pred);\n",
        "print(cm);"
      ],
      "metadata": {
        "colab": {
          "base_uri": "https://localhost:8080/"
        },
        "id": "wOx37jgNFZzu",
        "outputId": "e6c7b6ae-f116-47ec-fd35-82b719719db2"
      },
      "execution_count": null,
      "outputs": [
        {
          "output_type": "stream",
          "name": "stdout",
          "text": [
            "[[506   6   0   0   4   2   0   0   0   0   5   4   4   0   1   0   0   0\n",
            "    2   5   4   0   5   3   7   3   0   0   0]\n",
            " [  5 550   0   0   5   0   0   0   1   0   0   0   1   1   1   0   0   3\n",
            "    0   0   5   0   0   0   0   4   0   0   0]\n",
            " [  0   2 591   0   0   1   0   0   0   0   0   0   0   0   0   0   0   0\n",
            "    0   0   4   0   0   0   0   0   0   0   0]\n",
            " [  0   1   0 611   0   0   0   0   0   0   0   0   0   0   3   1   0   1\n",
            "    0   0   4   1   0   0   0   1   0   0   1]\n",
            " [ 32   8   0   0 513  14   0   0   2   0   0   2   3   0   1   0   0   1\n",
            "    3   2   2   1   0   1   0   4   0   0   0]\n",
            " [  1   0   0   2   1 537   0   0   0   0   3   0   0   0   2   0   0   1\n",
            "    1   1   0   0   0   0   2   0   0   0   4]\n",
            " [  0   0   0   0   0   1 581   8   0   7   0   0   0   0   0   2   0   5\n",
            "    0   0   1   1   0   1   1   0   0   0   9]\n",
            " [  0   0   0   0   0   0  11 597   0   3   0   1   0   0   0   1   0   0\n",
            "    0   0   1   0   0   0   4   0   0   0   0]\n",
            " [  1  13   0   0  11   1   0   1 516   2   5   1   8   4   0   0   0   5\n",
            "    3   0   5   0   0   0   1   0   2   3   9]\n",
            " [  0   0   0   0   0   0   6   1   0 529   0   2   0   0   0   1   0   4\n",
            "    2   0   1   0   0   4   4   0   0   0   3]\n",
            " [  0   8   0   1  11   1   0   0   7   0 590   1   0   0   0   0   0   7\n",
            "    0   0   2  22   5   0   0   0   0   0   8]\n",
            " [  0   0   0   0   0   0   0   0   0   0   0 629   0   0   0   0   0   0\n",
            "    0   0   0   0   0   0   0   0   0   0   0]\n",
            " [ 17   5   0   0   0   0   0   0   0   0   0   0 551  15   0   1   0   3\n",
            "    7   1   3   1   2   1   2   0   0   0   0]\n",
            " [  1   4   1   0   0   0   0   0   0   0   0   1  40 534   0   1   1   6\n",
            "    8   4   5   0   8   1   0   1   0   0   0]\n",
            " [  0   3   0   2   0   0   0   0   0   0   0   2   0   0 567   3   0   3\n",
            "    6   0   1   0   0   0   0   1   1   0   0]\n",
            " [  0   0   0   0   0   0   0   2   0   0   0   0   0   0   0 581   0   0\n",
            "    0   0   0   0   0   0   0   0   1   0   5]\n",
            " [  0   0   0   0   0   0   0   0   0   0   0   0   4   0   0  11 593   0\n",
            "    0   0   0   0   0   0   0   3   3   0   0]\n",
            " [  0   0   0   0   0   0   0   1  18   1   3   0   5   1   5   0   0 446\n",
            "   14   0  76   3   1   7   6   2   1   0   0]\n",
            " [ 14   5   3   1  17   2   0   0   0   0   2   0   1   5   5   7   0   3\n",
            "  475  22   4   0   5  14   3   2   0   0   3]\n",
            " [  3   1   0   0   0   0   0   0   0   0   0   7   0   1   3   0   0   0\n",
            "   20 539   1   0   4   8   8  11   0   0   1]\n",
            " [ 12   6   0   0   1   1   0   0   1   0   4   2   6   4   1   0   0  24\n",
            "    2   0 486  25   6  23   4   1   0   0   8]\n",
            " [  0   5   0   0   6   4   0   0   7   0  32   2   0   4   0   0   0  10\n",
            "   21   0  35 440  37   3   7   8   2   0   9]\n",
            " [  0  13   0   1   2   0   0   0   2   0   6   2   0   0   0   0   0   2\n",
            "    1   8   4  15 541   0   4   0   0   0   0]\n",
            " [  2   3   0   0   7   1  10   0   4   7   2   1  12   3   0   0   0   7\n",
            "   30  16  10   1   3 482   2   4   2   0   8]\n",
            " [  2   0   0   0   1   3   0   0   3   2   0   0   2   0   0   0   0   1\n",
            "   20  22   3   0   1   1 530   1   0   0   5]\n",
            " [  0   0   0   0   2   0   0   0   0   0   0   0   8   8   0   0   0   0\n",
            "    1   7   0   0   0   0   6 539   0   0   0]\n",
            " [  0   0   0   0   0   0   0   0   1   0   0   0   0   0   0   5   0   1\n",
            "    4   0   1   0   0   0   0   1 588   0   7]\n",
            " [  0   0   0   0   0   0   0   0   0   0   0   0   0   0   0   0   0   0\n",
            "    0   0   0   0   0   0   0   0   0 622   0]\n",
            " [  0   0   0   0   0   0   0   0   2   4   1   1   1   1   0   9   0   1\n",
            "    4   0   3   1   0   0   7   1   0   0 514]]\n"
          ]
        }
      ]
    },
    {
      "cell_type": "code",
      "source": [
        "import timeit;\n",
        "timeit.timeit(lambda: model.predict(X_test[0:1], verbose=0), number=1000)"
      ],
      "metadata": {
        "colab": {
          "base_uri": "https://localhost:8080/"
        },
        "id": "CqYPVAdTFvD3",
        "outputId": "37cc61fb-319b-4045-a43e-10af6bb3ec30"
      },
      "execution_count": null,
      "outputs": [
        {
          "output_type": "execute_result",
          "data": {
            "text/plain": [
              "45.00219257499998"
            ]
          },
          "metadata": {},
          "execution_count": 23
        }
      ]
    },
    {
      "cell_type": "code",
      "source": [
        "!nvidia-smi"
      ],
      "metadata": {
        "colab": {
          "base_uri": "https://localhost:8080/"
        },
        "id": "D-PSLFIeUG1C",
        "outputId": "70451774-4492-46d1-87bd-7f67665d97ae"
      },
      "execution_count": null,
      "outputs": [
        {
          "output_type": "stream",
          "name": "stdout",
          "text": [
            "Sun Nov 27 22:58:56 2022       \n",
            "+-----------------------------------------------------------------------------+\n",
            "| NVIDIA-SMI 460.32.03    Driver Version: 460.32.03    CUDA Version: 11.2     |\n",
            "|-------------------------------+----------------------+----------------------+\n",
            "| GPU  Name        Persistence-M| Bus-Id        Disp.A | Volatile Uncorr. ECC |\n",
            "| Fan  Temp  Perf  Pwr:Usage/Cap|         Memory-Usage | GPU-Util  Compute M. |\n",
            "|                               |                      |               MIG M. |\n",
            "|===============================+======================+======================|\n",
            "|   0  Tesla T4            Off  | 00000000:00:04.0 Off |                    0 |\n",
            "| N/A   64C    P0    28W /  70W |   5048MiB / 15109MiB |      0%      Default |\n",
            "|                               |                      |                  N/A |\n",
            "+-------------------------------+----------------------+----------------------+\n",
            "                                                                               \n",
            "+-----------------------------------------------------------------------------+\n",
            "| Processes:                                                                  |\n",
            "|  GPU   GI   CI        PID   Type   Process name                  GPU Memory |\n",
            "|        ID   ID                                                   Usage      |\n",
            "|=============================================================================|\n",
            "+-----------------------------------------------------------------------------+\n"
          ]
        }
      ]
    },
    {
      "cell_type": "code",
      "source": [
        "plot_confusion_matrix(cm, )"
      ],
      "metadata": {
        "colab": {
          "base_uri": "https://localhost:8080/",
          "height": 169
        },
        "id": "Bphau9R-GC6i",
        "outputId": "089001bb-00c4-4646-eb22-e163d33fdc7f"
      },
      "execution_count": null,
      "outputs": [
        {
          "output_type": "error",
          "ename": "TypeError",
          "evalue": "ignored",
          "traceback": [
            "\u001b[0;31m---------------------------------------------------------------------------\u001b[0m",
            "\u001b[0;31mTypeError\u001b[0m                                 Traceback (most recent call last)",
            "\u001b[0;32m<ipython-input-42-9ea1ba75471e>\u001b[0m in \u001b[0;36m<module>\u001b[0;34m\u001b[0m\n\u001b[0;32m----> 1\u001b[0;31m \u001b[0mplot_confusion_matrix\u001b[0m\u001b[0;34m(\u001b[0m\u001b[0mcm\u001b[0m\u001b[0;34m,\u001b[0m \u001b[0;34m)\u001b[0m\u001b[0;34m\u001b[0m\u001b[0;34m\u001b[0m\u001b[0m\n\u001b[0m",
            "\u001b[0;31mTypeError\u001b[0m: plot_confusion_matrix() missing 1 required positional argument: 'classes'"
          ]
        }
      ]
    },
    {
      "cell_type": "code",
      "source": [
        "loaded_weight_model = getModelWithTrainedWeights(pretrained_VGG16_model, numclasses=30, trained_weights_dir = checkpoint_path, optimizer= optimizer1);\n",
        "evaluateModelWithLoadedWeights(loaded_weight_model, X_test, y_testHot);\n",
        "y_pred = predictUsingTrainedModel(loaded_weight_model,X_test);\n",
        "labels_for_metrics, classification_report = printMetricsPostPrediction(y_testHot, character_labels);\n",
        "print(classification_report);\n",
        "cm= getConfusionMatrix(y_testHot, y_pred);\n",
        "print(cm);\n"
      ],
      "metadata": {
        "colab": {
          "base_uri": "https://localhost:8080/",
          "height": 972
        },
        "id": "q_v8reZQs-eU",
        "outputId": "9c622bcd-3c7b-4c19-9cd9-245ff581fced"
      },
      "execution_count": null,
      "outputs": [
        {
          "output_type": "stream",
          "name": "stdout",
          "text": [
            "compiling untrained model\n",
            "loading weights\n",
            "544/544 - 16s - loss: 0.4402 - accuracy: 0.9098 - 16s/epoch - 30ms/step\n",
            "Untrained model, accuracy: 90.98%\n",
            "\n",
            "              precision    recall  f1-score   support\n",
            "\n",
            "           A       0.87      0.90      0.88       606\n",
            "           B       0.87      0.95      0.91       643\n",
            "           C       0.99      0.99      0.99       601\n",
            "           D       0.98      0.96      0.97       596\n",
            "           E       0.91      0.88      0.89       599\n",
            "           F       0.96      0.98      0.97       567\n",
            "           G       0.96      0.94      0.95       580\n",
            "           H       0.98      0.97      0.98       618\n",
            "           I       0.92      0.88      0.90       586\n",
            "           J       0.96      0.96      0.96       586\n",
            "           K       0.90      0.87      0.88       587\n",
            "           L       0.94      1.00      0.97       601\n",
            "           M       0.84      0.92      0.88       573\n",
            "           N       0.94      0.88      0.91       639\n",
            "           O       0.96      0.94      0.95       586\n",
            "           P       0.93      0.98      0.96       615\n",
            "           Q       1.00      0.96      0.98       640\n",
            "           R       0.86      0.79      0.83       632\n",
            "           S       0.75      0.79      0.77       596\n",
            "           T       0.89      0.89      0.89       618\n",
            "           U       0.76      0.78      0.77       591\n",
            "           V       0.85      0.73      0.78       616\n",
            "           W       0.87      0.90      0.89       571\n",
            "           X       0.87      0.80      0.83       569\n",
            "           Y       0.90      0.88      0.89       618\n",
            "           Z       0.90      0.94      0.92       555\n",
            "         del       0.97      0.98      0.97       583\n",
            "     nothing       1.00      1.00      1.00       595\n",
            "       space       0.88      0.94      0.91       633\n",
            "\n",
            "    accuracy                           0.91     17400\n",
            "   macro avg       0.91      0.91      0.91     17400\n",
            "weighted avg       0.91      0.91      0.91     17400\n",
            "\n"
          ]
        },
        {
          "output_type": "error",
          "ename": "NameError",
          "evalue": "ignored",
          "traceback": [
            "\u001b[0;31m---------------------------------------------------------------------------\u001b[0m",
            "\u001b[0;31mNameError\u001b[0m                                 Traceback (most recent call last)",
            "\u001b[0;32m<ipython-input-12-53a7449e59d8>\u001b[0m in \u001b[0;36m<module>\u001b[0;34m\u001b[0m\n\u001b[1;32m      3\u001b[0m \u001b[0my_pred\u001b[0m \u001b[0;34m=\u001b[0m \u001b[0mpredictUsingTrainedModel\u001b[0m\u001b[0;34m(\u001b[0m\u001b[0mloaded_weight_model\u001b[0m\u001b[0;34m,\u001b[0m\u001b[0mX_test\u001b[0m\u001b[0;34m)\u001b[0m\u001b[0;34m;\u001b[0m\u001b[0;34m\u001b[0m\u001b[0;34m\u001b[0m\u001b[0m\n\u001b[1;32m      4\u001b[0m \u001b[0mlabels_for_metrics\u001b[0m\u001b[0;34m,\u001b[0m \u001b[0mclassification_report\u001b[0m \u001b[0;34m=\u001b[0m \u001b[0mprintMetricsPostPrediction\u001b[0m\u001b[0;34m(\u001b[0m\u001b[0my_testHot\u001b[0m\u001b[0;34m,\u001b[0m \u001b[0mcharacter_labels\u001b[0m\u001b[0;34m)\u001b[0m\u001b[0;34m;\u001b[0m\u001b[0;34m\u001b[0m\u001b[0;34m\u001b[0m\u001b[0m\n\u001b[0;32m----> 5\u001b[0;31m \u001b[0mprint\u001b[0m\u001b[0;34m(\u001b[0m\u001b[0mmetrics\u001b[0m\u001b[0;34m)\u001b[0m\u001b[0;34m;\u001b[0m\u001b[0;34m\u001b[0m\u001b[0;34m\u001b[0m\u001b[0m\n\u001b[0m\u001b[1;32m      6\u001b[0m \u001b[0mcm\u001b[0m\u001b[0;34m=\u001b[0m \u001b[0mgetConfusionMatrix\u001b[0m\u001b[0;34m(\u001b[0m\u001b[0my_testHot\u001b[0m\u001b[0;34m,\u001b[0m \u001b[0my_pred\u001b[0m\u001b[0;34m)\u001b[0m\u001b[0;34m;\u001b[0m\u001b[0;34m\u001b[0m\u001b[0;34m\u001b[0m\u001b[0m\n\u001b[1;32m      7\u001b[0m \u001b[0mprint\u001b[0m\u001b[0;34m(\u001b[0m\u001b[0mcm\u001b[0m\u001b[0;34m)\u001b[0m\u001b[0;34m;\u001b[0m\u001b[0;34m\u001b[0m\u001b[0;34m\u001b[0m\u001b[0m\n",
            "\u001b[0;31mNameError\u001b[0m: name 'metrics' is not defined"
          ]
        }
      ]
    },
    {
      "cell_type": "code",
      "source": [
        "print(classification_report);\n",
        "cm= getConfusionMatrix(y_testHot, y_pred);\n",
        "print(cm);"
      ],
      "metadata": {
        "colab": {
          "base_uri": "https://localhost:8080/"
        },
        "id": "EoeYpVzidn2Q",
        "outputId": "8eff6740-ccb1-4d85-c5d2-de5f4ce569b8"
      },
      "execution_count": null,
      "outputs": [
        {
          "output_type": "stream",
          "name": "stdout",
          "text": [
            "              precision    recall  f1-score   support\n",
            "\n",
            "           A       0.87      0.90      0.88       606\n",
            "           B       0.87      0.95      0.91       643\n",
            "           C       0.99      0.99      0.99       601\n",
            "           D       0.98      0.96      0.97       596\n",
            "           E       0.91      0.88      0.89       599\n",
            "           F       0.96      0.98      0.97       567\n",
            "           G       0.96      0.94      0.95       580\n",
            "           H       0.98      0.97      0.98       618\n",
            "           I       0.92      0.88      0.90       586\n",
            "           J       0.96      0.96      0.96       586\n",
            "           K       0.90      0.87      0.88       587\n",
            "           L       0.94      1.00      0.97       601\n",
            "           M       0.84      0.92      0.88       573\n",
            "           N       0.94      0.88      0.91       639\n",
            "           O       0.96      0.94      0.95       586\n",
            "           P       0.93      0.98      0.96       615\n",
            "           Q       1.00      0.96      0.98       640\n",
            "           R       0.86      0.79      0.83       632\n",
            "           S       0.75      0.79      0.77       596\n",
            "           T       0.89      0.89      0.89       618\n",
            "           U       0.76      0.78      0.77       591\n",
            "           V       0.85      0.73      0.78       616\n",
            "           W       0.87      0.90      0.89       571\n",
            "           X       0.87      0.80      0.83       569\n",
            "           Y       0.90      0.88      0.89       618\n",
            "           Z       0.90      0.94      0.92       555\n",
            "         del       0.97      0.98      0.97       583\n",
            "     nothing       1.00      1.00      1.00       595\n",
            "       space       0.88      0.94      0.91       633\n",
            "\n",
            "    accuracy                           0.91     17400\n",
            "   macro avg       0.91      0.91      0.91     17400\n",
            "weighted avg       0.91      0.91      0.91     17400\n",
            "\n",
            "[[548   6   0   0   3   3   0   0   3   0   1   4  15   0   0   0   0   0\n",
            "    3   3   3   0   6   0   5   3   0   0   0]\n",
            " [  6 612   0   0   2   1   0   0   0   0   1   0   0   1   0   0   0   7\n",
            "    1   0   8   0   0   0   0   4   0   0   0]\n",
            " [  0   3 593   0   0   1   0   0   0   0   0   2   0   0   0   0   0   0\n",
            "    1   0   1   0   0   0   0   0   0   0   0]\n",
            " [  0   3   0 575   0   0   0   0   0   0   0   0   0   0  12   0   0   0\n",
            "    0   0   2   0   0   0   0   3   0   0   1]\n",
            " [ 29   4   1   2 527   8   0   0   4   0   0   3   4   0   1   0   0   0\n",
            "    2   3   4   2   0   0   0   4   0   0   1]\n",
            " [  0   1   0   2   0 553   0   0   0   0   3   0   0   0   0   0   0   2\n",
            "    1   0   0   0   0   0   2   0   0   0   3]\n",
            " [  0   0   0   0   0   1 545   7   0   6   0   0   0   0   0   2   0   8\n",
            "    0   0   0   0   0   2   1   0   0   0   8]\n",
            " [  0   0   0   0   0   0   5 602   0   1   0   0   0   0   0   6   0   0\n",
            "    0   0   1   0   0   0   2   0   0   0   1]\n",
            " [  2  13   0   1  15   0   0   0 516   3   5   0  10   1   0   0   0   4\n",
            "    4   0   1   0   0   0   1   0   5   1   4]\n",
            " [  0   0   0   0   0   0   5   1   1 563   0   0   1   1   0   0   0   2\n",
            "    6   0   1   0   0   1   2   0   0   0   2]\n",
            " [  1   6   0   1   6   0   0   0   6   0 512   2   0   0   0   0   0   7\n",
            "    0   0   2  21   9   0   1   0   0   0  13]\n",
            " [  0   0   0   0   0   0   0   0   0   0   0 598   0   0   0   0   0   0\n",
            "    0   0   0   0   0   0   0   1   0   0   2]\n",
            " [ 12   3   0   0   1   0   0   0   2   0   0   0 525   7   0   1   0   2\n",
            "   10   0   3   1   0   2   2   2   0   0   0]\n",
            " [  2   7   1   1   0   1   0   0   0   0   0   4  31 563   1   0   1   3\n",
            "    7   1   5   0  10   0   0   0   0   0   1]\n",
            " [  0   8   0   6   0   0   0   0   0   0   0   1   0   0 550   2   0   5\n",
            "    6   0   0   1   0   0   1   3   2   0   1]\n",
            " [  0   0   0   0   0   0   0   4   0   0   0   0   0   0   0 605   0   0\n",
            "    0   0   0   0   0   0   0   0   4   0   2]\n",
            " [  1   0   0   0   0   0   0   0   0   0   0   0   2   0   0  15 615   0\n",
            "    0   3   0   0   0   0   0   1   2   1   0]\n",
            " [  0   0   0   0   0   0   1   0   9   1   8   0   4   3   1   0   0 502\n",
            "   17   0  54  10   3  11   4   2   0   0   2]\n",
            " [ 11   3   5   0  11   1   0   0   3   0   0   0   4   9   3   9   0   2\n",
            "  469  20   7   4   6  18   2   6   1   0   2]\n",
            " [  5   7   0   0   1   1   0   1   0   0   0  11   1   0   2   0   0   0\n",
            "   13 551   1   0   2   8   6   8   0   0   0]\n",
            " [ 12   8   0   0   1   1   0   0   1   0   1   3   6   6   1   0   0  20\n",
            "    6   0 463  26   4  21   3   0   0   0   8]\n",
            " [  0   4   0   1   7   1   0   0   3   0  26   2   0   3   0   0   0  11\n",
            "   20   0  30 449  29   4   9   7   2   0   8]\n",
            " [  0  12   0   0   1   0   0   0   2   0  11   2   0   0   0   0   0   3\n",
            "    0   4   6  14 513   0   2   1   0   0   0]\n",
            " [  0   4   0   0   4   0   8   0   3   2   1   0  10   4   0   0   0   5\n",
            "   28  12   8   0   3 454   4   6   2   0  11]\n",
            " [  3   0   0   0   1   3   1   0   4   1   0   0   4   0   0   0   0   0\n",
            "   21  16   4   0   1   2 543   2   1   0  11]\n",
            " [  0   0   0   0   1   1   0   0   0   0   0   0   6   4   0   0   0   0\n",
            "    4   8   0   0   1   0   5 523   1   0   1]\n",
            " [  0   0   0   0   0   0   0   0   0   0   0   0   0   0   0   5   0   1\n",
            "    2   0   1   0   0   0   0   2 569   0   3]\n",
            " [  0   0   0   0   0   0   0   0   0   0   0   0   0   0   0   0   0   0\n",
            "    0   0   0   0   0   0   0   0   0 595   0]\n",
            " [  1   0   0   0   0   0   0   0   2   7   2   1   0   0   0   7   0   0\n",
            "    4   0   1   1   0   0   8   2   0   0 597]]\n"
          ]
        }
      ]
    }
  ]
}